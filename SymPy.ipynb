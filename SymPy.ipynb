{
 "cells": [
  {
   "cell_type": "markdown",
   "id": "6d7f595e",
   "metadata": {},
   "source": [
    "# Sympy\n",
    "Una librería para trabajar con computación simbólica, la cual sirve para representar objetos matemáticos de forma exacta, de esta manera expresiones matemáticas con variables sin evaluar se dejan así.\n",
    "\n",
    "Sistemas de Álgebra Computacional"
   ]
  },
  {
   "cell_type": "code",
   "execution_count": 1,
   "id": "ec0062d4",
   "metadata": {},
   "outputs": [
    {
     "data": {
      "text/plain": [
       "3.0"
      ]
     },
     "execution_count": 1,
     "metadata": {},
     "output_type": "execute_result"
    }
   ],
   "source": [
    "import math\n",
    "math.sqrt(9)"
   ]
  },
  {
   "cell_type": "code",
   "execution_count": 2,
   "id": "37fbfd8f",
   "metadata": {},
   "outputs": [
    {
     "data": {
      "text/plain": [
       "2.8284271247461903"
      ]
     },
     "execution_count": 2,
     "metadata": {},
     "output_type": "execute_result"
    }
   ],
   "source": [
    "math.sqrt(8)"
   ]
  },
  {
   "cell_type": "code",
   "execution_count": 3,
   "id": "ec474547",
   "metadata": {},
   "outputs": [
    {
     "data": {
      "text/latex": [
       "$\\displaystyle \\sqrt{3}$"
      ],
      "text/plain": [
       "sqrt(3)"
      ]
     },
     "execution_count": 3,
     "metadata": {},
     "output_type": "execute_result"
    }
   ],
   "source": [
    "import sympy\n",
    "sympy.sqrt(3)"
   ]
  },
  {
   "cell_type": "code",
   "execution_count": 4,
   "id": "30b6d634",
   "metadata": {},
   "outputs": [
    {
     "data": {
      "text/latex": [
       "$\\displaystyle 2 \\sqrt{2}$"
      ],
      "text/plain": [
       "2*sqrt(2)"
      ]
     },
     "execution_count": 4,
     "metadata": {},
     "output_type": "execute_result"
    }
   ],
   "source": [
    "sympy.sqrt(8)"
   ]
  },
  {
   "cell_type": "markdown",
   "id": "96193e1a",
   "metadata": {},
   "source": [
    "# Simbolos"
   ]
  },
  {
   "cell_type": "code",
   "execution_count": 5,
   "id": "9571eb1f",
   "metadata": {},
   "outputs": [
    {
     "data": {
      "text/latex": [
       "$\\displaystyle x$"
      ],
      "text/plain": [
       "x"
      ]
     },
     "execution_count": 5,
     "metadata": {},
     "output_type": "execute_result"
    }
   ],
   "source": [
    "x = sympy.Symbol('x')\n",
    "x"
   ]
  },
  {
   "cell_type": "code",
   "execution_count": 6,
   "id": "6ecaa098",
   "metadata": {},
   "outputs": [
    {
     "data": {
      "text/latex": [
       "$\\displaystyle \\left(2 x + 3\\right)^{4}$"
      ],
      "text/plain": [
       "(2*x + 3)**4"
      ]
     },
     "execution_count": 6,
     "metadata": {},
     "output_type": "execute_result"
    }
   ],
   "source": [
    "polynomial = (2*x + 3)**4\n",
    "polynomial"
   ]
  },
  {
   "cell_type": "code",
   "execution_count": 7,
   "id": "7f7224bd",
   "metadata": {},
   "outputs": [
    {
     "data": {
      "text/latex": [
       "$\\displaystyle 16 x^{4} + 96 x^{3} + 216 x^{2} + 216 x + 81$"
      ],
      "text/plain": [
       "16*x**4 + 96*x**3 + 216*x**2 + 216*x + 81"
      ]
     },
     "execution_count": 7,
     "metadata": {},
     "output_type": "execute_result"
    }
   ],
   "source": [
    "polynomial.expand()"
   ]
  },
  {
   "cell_type": "code",
   "execution_count": 8,
   "id": "4ecbdf96",
   "metadata": {},
   "outputs": [
    {
     "data": {
      "text/latex": [
       "$\\displaystyle \\left(x + 1\\right)^{2}$"
      ],
      "text/plain": [
       "(x + 1)**2"
      ]
     },
     "execution_count": 8,
     "metadata": {},
     "output_type": "execute_result"
    }
   ],
   "source": [
    "(x**2 + 2*x + 1).factor()"
   ]
  },
  {
   "cell_type": "code",
   "execution_count": 9,
   "id": "6385481a",
   "metadata": {},
   "outputs": [
    {
     "data": {
      "text/latex": [
       "$\\displaystyle 16 x^{4} + 96 x^{3} + 216 x^{2} + 216 x + 81$"
      ],
      "text/plain": [
       "16*x**4 + 96*x**3 + 216*x**2 + 216*x + 81"
      ]
     },
     "execution_count": 9,
     "metadata": {},
     "output_type": "execute_result"
    }
   ],
   "source": [
    "sympy.expand(polynomial)"
   ]
  },
  {
   "cell_type": "code",
   "execution_count": 10,
   "id": "84bc34e7",
   "metadata": {},
   "outputs": [],
   "source": [
    "sympy.init_printing(use_unicode=True)"
   ]
  },
  {
   "cell_type": "markdown",
   "id": "eb2758e8",
   "metadata": {},
   "source": [
    "## Ejemplos Cálculo"
   ]
  },
  {
   "cell_type": "code",
   "execution_count": 11,
   "id": "883d57d9",
   "metadata": {},
   "outputs": [
    {
     "data": {
      "image/png": "[encoded data removed]",
      "text/latex": [
       "$\\displaystyle \\tan{\\left(\\log{\\left(x^{2} + 1 \\right)} \\right)}$"
      ],
      "text/plain": [
       "   ⎛   ⎛ 2    ⎞⎞\n",
       "tan⎝log⎝x  + 1⎠⎠"
      ]
     },
     "execution_count": 11,
     "metadata": {},
     "output_type": "execute_result"
    }
   ],
   "source": [
    "eq = sympy.tan(sympy.log(x**2 + 1))\n",
    "eq"
   ]
  },
  {
   "cell_type": "code",
   "execution_count": 12,
   "id": "a56fefa2",
   "metadata": {},
   "outputs": [
    {
     "data": {
      "image/png": "[encoded data removed]",
      "text/latex": [
       "$\\displaystyle \\frac{2 x \\left(\\tan^{2}{\\left(\\log{\\left(x^{2} + 1 \\right)} \\right)} + 1\\right)}{x^{2} + 1}$"
      ],
      "text/plain": [
       "    ⎛   2⎛   ⎛ 2    ⎞⎞    ⎞\n",
       "2⋅x⋅⎝tan ⎝log⎝x  + 1⎠⎠ + 1⎠\n",
       "───────────────────────────\n",
       "            2              \n",
       "           x  + 1          "
      ]
     },
     "execution_count": 12,
     "metadata": {},
     "output_type": "execute_result"
    }
   ],
   "source": [
    "eq.diff(x)"
   ]
  },
  {
   "cell_type": "code",
   "execution_count": 13,
   "id": "d4458612",
   "metadata": {},
   "outputs": [
    {
     "data": {
      "image/png": "[encoded data removed]",
      "text/latex": [
       "$\\displaystyle \\frac{2 \\left(\\tan^{2}{\\left(\\log{\\left(x^{2} + 1 \\right)} \\right)} + 1\\right) \\left(\\frac{4 x^{2} \\tan{\\left(\\log{\\left(x^{2} + 1 \\right)} \\right)}}{x^{2} + 1} - \\frac{2 x^{2}}{x^{2} + 1} + 1\\right)}{x^{2} + 1}$"
      ],
      "text/plain": [
       "                          ⎛   2    ⎛   ⎛ 2    ⎞⎞       2     ⎞\n",
       "  ⎛   2⎛   ⎛ 2    ⎞⎞    ⎞ ⎜4⋅x ⋅tan⎝log⎝x  + 1⎠⎠    2⋅x      ⎟\n",
       "2⋅⎝tan ⎝log⎝x  + 1⎠⎠ + 1⎠⋅⎜───────────────────── - ────── + 1⎟\n",
       "                          ⎜         2               2        ⎟\n",
       "                          ⎝        x  + 1          x  + 1    ⎠\n",
       "──────────────────────────────────────────────────────────────\n",
       "                             2                                \n",
       "                            x  + 1                            "
      ]
     },
     "execution_count": 13,
     "metadata": {},
     "output_type": "execute_result"
    }
   ],
   "source": [
    "eq.diff(x, 2)"
   ]
  },
  {
   "cell_type": "code",
   "execution_count": 14,
   "id": "dacaa7ef",
   "metadata": {},
   "outputs": [
    {
     "data": {
      "image/png": "[encoded data removed]",
      "text/latex": [
       "$\\displaystyle \\left(2 x + 3\\right)^{4}$"
      ],
      "text/plain": [
       "         4\n",
       "(2⋅x + 3) "
      ]
     },
     "execution_count": 14,
     "metadata": {},
     "output_type": "execute_result"
    }
   ],
   "source": [
    "polynomial"
   ]
  },
  {
   "cell_type": "code",
   "execution_count": 15,
   "id": "c0d17a43",
   "metadata": {},
   "outputs": [
    {
     "data": {
      "image/png": "[encoded data removed]",
      "text/latex": [
       "$\\displaystyle \\frac{16 x^{5}}{5} + 24 x^{4} + 72 x^{3} + 108 x^{2} + 81 x$"
      ],
      "text/plain": [
       "    5                                \n",
       "16⋅x        4       3        2       \n",
       "───── + 24⋅x  + 72⋅x  + 108⋅x  + 81⋅x\n",
       "  5                                  "
      ]
     },
     "execution_count": 15,
     "metadata": {},
     "output_type": "execute_result"
    }
   ],
   "source": [
    "polynomial.integrate(x)"
   ]
  },
  {
   "cell_type": "code",
   "execution_count": 16,
   "id": "2fdc1354",
   "metadata": {},
   "outputs": [
    {
     "data": {
      "image/png": "[encoded data removed]",
      "text/latex": [
       "$\\displaystyle \\frac{6841}{5}$"
      ],
      "text/plain": [
       "6841/5"
      ]
     },
     "execution_count": 16,
     "metadata": {},
     "output_type": "execute_result"
    }
   ],
   "source": [
    "polynomial.integrate((x, 1, 2))"
   ]
  },
  {
   "cell_type": "markdown",
   "id": "7225ab81",
   "metadata": {},
   "source": [
    "## Limites"
   ]
  },
  {
   "cell_type": "code",
   "execution_count": 17,
   "id": "f4a99b94",
   "metadata": {},
   "outputs": [
    {
     "data": {
      "image/png": "[encoded data removed]",
      "text/latex": [
       "$\\displaystyle \\frac{2 \\sin{\\left(x \\right)} - \\sin{\\left(2 x \\right)}}{x - \\sin{\\left(x \\right)}}$"
      ],
      "text/plain": [
       "2⋅sin(x) - sin(2⋅x)\n",
       "───────────────────\n",
       "     x - sin(x)    "
      ]
     },
     "execution_count": 17,
     "metadata": {},
     "output_type": "execute_result"
    }
   ],
   "source": [
    "badeq = (2*sympy.sin(x) - sympy.sin(2*x))/(x - sympy.sin(x))\n",
    "badeq"
   ]
  },
  {
   "cell_type": "code",
   "execution_count": 37,
   "id": "05f0d199",
   "metadata": {},
   "outputs": [
    {
     "data": {
      "text/plain": [
       "[<matplotlib.lines.Line2D at 0x7f4bcb4cafa0>]"
      ]
     },
     "execution_count": 37,
     "metadata": {},
     "output_type": "execute_result"
    },
    {
     "data": {
      "image/png": "[encoded data removed]",
      "text/plain": [
       "<Figure size 432x288 with 1 Axes>"
      ]
     },
     "metadata": {
      "needs_background": "light"
     },
     "output_type": "display_data"
    }
   ],
   "source": [
    "import numpy as np\n",
    "from matplotlib import pyplot as plt\n",
    "\n",
    "xarr = np.linspace(-1, 100, 100)\n",
    "yarr = (2*np.sin(xarr) - np.sin(2*xarr)) / (xarr - np.sin(xarr))\n",
    "\n",
    "fig = plt.figure()\n",
    "ax = fig.add_axes([0,0,1,1])\n",
    "ax.plot(xarr, yarr, \"-\")"
   ]
  },
  {
   "cell_type": "code",
   "execution_count": 20,
   "id": "d4ef1aaa",
   "metadata": {},
   "outputs": [
    {
     "data": {
      "image/png": "[encoded data removed]",
      "text/latex": [
       "$\\displaystyle 6$"
      ],
      "text/plain": [
       "6"
      ]
     },
     "execution_count": 20,
     "metadata": {},
     "output_type": "execute_result"
    }
   ],
   "source": [
    "lim = sympy.limit(badeq, x, 0)\n",
    "lim"
   ]
  },
  {
   "cell_type": "markdown",
   "id": "6b2a8d72",
   "metadata": {},
   "source": [
    "## Solve"
   ]
  },
  {
   "cell_type": "code",
   "execution_count": 26,
   "id": "0c033731",
   "metadata": {},
   "outputs": [
    {
     "data": {
      "image/png": "[encoded data removed]",
      "text/latex": [
       "$\\displaystyle \\left[ - \\sqrt{2}, \\  \\sqrt{2}\\right]$"
      ],
      "text/plain": [
       "[-√2, √2]"
      ]
     },
     "execution_count": 26,
     "metadata": {},
     "output_type": "execute_result"
    }
   ],
   "source": [
    "sympy.solve(x**2 - 2, x)"
   ]
  },
  {
   "cell_type": "code",
   "execution_count": 34,
   "id": "45dd7c97",
   "metadata": {},
   "outputs": [
    {
     "data": {
      "image/png": "[encoded data removed]",
      "text/latex": [
       "$\\displaystyle \\left( - y{\\left(t \\right)} + \\frac{d^{2}}{d t^{2}} y{\\left(t \\right)} = e^{t}, \\  y{\\left(t \\right)}\\right)$"
      ],
      "text/plain": [
       "⎛          2                 ⎞\n",
       "⎜         d           t      ⎟\n",
       "⎜-y(t) + ───(y(t)) = ℯ , y(t)⎟\n",
       "⎜          2                 ⎟\n",
       "⎝        dt                  ⎠"
      ]
     },
     "execution_count": 34,
     "metadata": {},
     "output_type": "execute_result"
    }
   ],
   "source": [
    "y = sympy.Function('y')\n",
    "t = sympy.Symbol('t')\n",
    "eq_dif = sympy.Eq(y(t).diff(t, t) - y(t), sympy.exp(t)), y(t)\n",
    "eq_dif"
   ]
  },
  {
   "cell_type": "code",
   "execution_count": 35,
   "id": "02f79cf3",
   "metadata": {},
   "outputs": [
    {
     "data": {
      "image/png": "[encoded data removed]",
      "text/latex": [
       "$\\displaystyle y{\\left(t \\right)} = C_{2} e^{- t} + \\left(C_{1} + \\frac{t}{2}\\right) e^{t}$"
      ],
      "text/plain": [
       "           -t   ⎛     t⎞  t\n",
       "y(t) = C₂⋅ℯ   + ⎜C₁ + ─⎟⋅ℯ \n",
       "                ⎝     2⎠   "
      ]
     },
     "execution_count": 35,
     "metadata": {},
     "output_type": "execute_result"
    }
   ],
   "source": [
    "res = sympy.dsolve(sympy.Eq(y(t).diff(t, t) - y(t), sympy.exp(t)), y(t))\n",
    "res"
   ]
  },
  {
   "cell_type": "code",
   "execution_count": 36,
   "id": "03cfb4f2",
   "metadata": {},
   "outputs": [
    {
     "data": {
      "text/plain": [
       "'y{\\\\left(t \\\\right)} = C_{2} e^{- t} + \\\\left(C_{1} + \\\\frac{t}{2}\\\\right) e^{t}'"
      ]
     },
     "execution_count": 36,
     "metadata": {},
     "output_type": "execute_result"
    }
   ],
   "source": [
    "sympy.latex(res)"
   ]
  },
  {
   "cell_type": "markdown",
   "id": "f2493ab1",
   "metadata": {},
   "source": [
    "# Documentación\n",
    "[pag oficial](https://docs.sympy.org/latest/index.html)"
   ]
  }
 ],
 "metadata": {
  "kernelspec": {
   "display_name": "Python 3",
   "language": "python",
   "name": "python3"
  },
  "language_info": {
   "codemirror_mode": {
    "name": "ipython",
    "version": 3
   },
   "file_extension": ".py",
   "mimetype": "text/x-python",
   "name": "python",
   "nbconvert_exporter": "python",
   "pygments_lexer": "ipython3",
   "version": "3.8.8"
  }
 },
 "nbformat": 4,
 "nbformat_minor": 5
}

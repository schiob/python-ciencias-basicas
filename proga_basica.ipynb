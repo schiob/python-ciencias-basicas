{
 "cells": [
  {
   "cell_type": "markdown",
   "metadata": {},
   "source": [
    "# Contenido \n",
    "## Día 1\n",
    " - Presentación Temario\n",
    " - Entorno de desarrollo\n",
    " - Python\n",
    " - Programación Básica\n",
    "\n",
    "## Día 2\n",
    " - Programación Básica\n",
    " - NumPy\n",
    " - Matplotlib\n",
    "\n",
    "## Día 3\n",
    " - Matplotlib\n",
    " - Sympy\n",
    " - Aplicaciones prácticas"
   ]
  },
  {
   "cell_type": "markdown",
   "metadata": {},
   "source": [
    "# Intro a Jupyter Notebooks y Python"
   ]
  },
  {
   "cell_type": "code",
   "execution_count": 5,
   "metadata": {},
   "outputs": [
    {
     "name": "stdout",
     "output_type": "stream",
     "text": [
      "Hola Mundo\n"
     ]
    }
   ],
   "source": [
    "print(\"Hola Mundo\")"
   ]
  },
  {
   "cell_type": "markdown",
   "metadata": {},
   "source": [
    "# Python\n",
    " - lenguaje de programación de propósito general\n",
    " - Interpretado\n",
    " - De alto nivel y multiparadigma\n",
    " - Multiplataforma\n",
    " - Tipado dinámico\n",
    " \n",
    " - Desarrollo Web\n",
    " - Cómputo científico [numpy](https://numpy.org/)\n",
    " "
   ]
  },
  {
   "cell_type": "markdown",
   "metadata": {},
   "source": [
    "# Variables y tipos de datos\n",
    " \n",
    "### Números\n",
    " - int\n",
    " - float\n",
    " - complex\n",
    " \n",
    "### Booleanos\n",
    " - bool\n",
    " \n",
    "### String\n",
    " - str\n",
    " \n",
    "### Estructuras\n",
    " - tuple\n",
    " - list\n",
    " - dict\n",
    " - set"
   ]
  },
  {
   "cell_type": "code",
   "execution_count": 10,
   "metadata": {},
   "outputs": [
    {
     "name": "stdout",
     "output_type": "stream",
     "text": [
      "<class 'int'> <class 'float'> <class 'complex'>\n"
     ]
    }
   ],
   "source": [
    "# Numeros\n",
    "mi_numero = 4\n",
    "flotante = 43.23\n",
    "complejo = 2.1 + 7.8j\n",
    "print(type(mi_numero), type(flotante), type(complejo))"
   ]
  },
  {
   "cell_type": "code",
   "execution_count": 12,
   "metadata": {},
   "outputs": [],
   "source": [
    "# Booleanos\n",
    "mi_bool = True\n",
    "mi_otro_bool = False"
   ]
  },
  {
   "cell_type": "code",
   "execution_count": 15,
   "metadata": {},
   "outputs": [],
   "source": [
    "# Strings\n",
    "nombre = \"Santiago\"\n",
    "apellido = 'Chio'\n",
    "multiple = \"\"\"todo un parrafo\n",
    "con varias\n",
    "lineas\"\"\""
   ]
  },
  {
   "cell_type": "markdown",
   "metadata": {},
   "source": [
    "# Funciones built in\n",
    " [Documentación](https://docs.python.org/3/library/functions.html)"
   ]
  },
  {
   "cell_type": "code",
   "execution_count": 19,
   "metadata": {},
   "outputs": [
    {
     "name": "stdout",
     "output_type": "stream",
     "text": [
      "dame tu nombre:chio\n",
      "hola chio\n"
     ]
    }
   ],
   "source": [
    "mi_nombre = input('dame tu nombre:')\n",
    "print(\"hola\", mi_nombre)"
   ]
  },
  {
   "cell_type": "markdown",
   "metadata": {},
   "source": [
    "# Operadores Aritméticos\n",
    "\\+\tSuma\t`x + y`\n",
    "\n",
    "\\-\tResta\t`x - y`\n",
    "\n",
    "\\*\tMultiplicación\t`x * y`\n",
    "\n",
    "/\tDivision (float)\t`x / y`\n",
    "\n",
    "//\tDivision (floor)\t`x // y`\n",
    "\n",
    "%\tMódulo\t`x % y`\n",
    "\n",
    "**\tPotencia\t`x ** y`"
   ]
  },
  {
   "cell_type": "code",
   "execution_count": 21,
   "metadata": {},
   "outputs": [
    {
     "name": "stdout",
     "output_type": "stream",
     "text": [
      "13\n",
      "5\n",
      "36\n",
      "2.25\n",
      "2\n",
      "1\n",
      "6561\n"
     ]
    }
   ],
   "source": [
    "# Examples of Arithmetic Operator \n",
    "a = 9\n",
    "b = 4\n",
    "  \n",
    "# Addition of numbers \n",
    "add = a + b \n",
    "  \n",
    "# Subtraction of numbers \n",
    "sub = a - b \n",
    "  \n",
    "# Multiplication of number \n",
    "mul = a * b \n",
    "  \n",
    "# Division(float) of number \n",
    "div1 = a / b \n",
    "  \n",
    "# Division(floor) of number \n",
    "div2 = a // b \n",
    "  \n",
    "# Modulo of both number \n",
    "mod = a % b \n",
    "  \n",
    "# Power\n",
    "p = a ** b\n",
    "  \n",
    "# print results \n",
    "print(add) \n",
    "print(sub) \n",
    "print(mul) \n",
    "print(div1) \n",
    "print(div2) \n",
    "print(mod)\n",
    "print(p)"
   ]
  },
  {
   "cell_type": "markdown",
   "metadata": {},
   "source": [
    "# Operadores Comparación\n",
    "\\>\tMayor que\t`x > y`\n",
    "\n",
    "<\tMenor que\t`x < y`\n",
    "\n",
    "==\tIgual a\t    `x == y`\n",
    "\n",
    "!=\tDiferente a `x != y`\n",
    "\n",
    "\\>=\tMayor que o igual\t`x >= y`\n",
    "\n",
    "<=\tMenor que o igual\t`x <= y`"
   ]
  },
  {
   "cell_type": "code",
   "execution_count": 22,
   "metadata": {},
   "outputs": [
    {
     "name": "stdout",
     "output_type": "stream",
     "text": [
      "False\n",
      "True\n",
      "False\n",
      "True\n",
      "False\n",
      "True\n"
     ]
    }
   ],
   "source": [
    "# Examples of Relational Operators\n",
    "a = 13\n",
    "b = 33\n",
    "  \n",
    "# a > b is False\n",
    "print(a > b)\n",
    "  \n",
    "# a < b is True\n",
    "print(a < b)\n",
    "  \n",
    "# a == b is False\n",
    "print(a == b)\n",
    "  \n",
    "# a != b is True\n",
    "print(a != b)\n",
    "  \n",
    "# a >= b is False\n",
    "print(a >= b)\n",
    "  \n",
    "# a <= b is True\n",
    "print(a <= b)"
   ]
  },
  {
   "cell_type": "markdown",
   "metadata": {},
   "source": [
    "# Operadores Lógicos\n",
    "and\t`x and y`\n",
    "\n",
    "or\t`x or y`\n",
    "\n",
    "not\t`not x`"
   ]
  },
  {
   "cell_type": "code",
   "execution_count": 23,
   "metadata": {},
   "outputs": [
    {
     "name": "stdout",
     "output_type": "stream",
     "text": [
      "False\n",
      "True\n",
      "False\n"
     ]
    }
   ],
   "source": [
    "# Examples of Logical Operator\n",
    "a = True\n",
    "b = False\n",
    "  \n",
    "# Print a and b is False\n",
    "print(a and b)\n",
    "  \n",
    "# Print a or b is True\n",
    "print(a or b)\n",
    "  \n",
    "# Print not a is False\n",
    "print(not a)"
   ]
  },
  {
   "cell_type": "markdown",
   "metadata": {},
   "source": [
    "## Otros operadores\n",
    " - Bitwise\n",
    " - Assignment\n",
    " - Identidad `is` `is not`\n",
    " - Pertenencia `in` `not in`"
   ]
  },
  {
   "cell_type": "markdown",
   "metadata": {},
   "source": [
    "# Condicionales\n",
    "```python\n",
    "if True:\n",
    "    pass\n",
    "elif True:\n",
    "    pass\n",
    "else:\n",
    "    pass\n",
    "```"
   ]
  },
  {
   "cell_type": "code",
   "execution_count": 28,
   "metadata": {},
   "outputs": [
    {
     "name": "stdout",
     "output_type": "stream",
     "text": [
      "pon un múmero:121\n",
      "número entre 100 y 1000\n"
     ]
    }
   ],
   "source": [
    "numero = int(input(\"pon un múmero:\"))\n",
    "if numero < 100:\n",
    "    print(\"número pequeño\")\n",
    "elif numero < 1000:\n",
    "    print(\"número entre 100 y 1000\")\n",
    "else:\n",
    "    print(\"número mayor que 999\")\n"
   ]
  },
  {
   "cell_type": "markdown",
   "metadata": {},
   "source": [
    "# Ciclos\n",
    " - while\n",
    " - for\n",
    " \n",
    " sentencias:\n",
    " - break\n",
    " - continue"
   ]
  },
  {
   "cell_type": "code",
   "execution_count": 29,
   "metadata": {},
   "outputs": [
    {
     "name": "stdout",
     "output_type": "stream",
     "text": [
      "0\n",
      "1\n",
      "2\n",
      "3\n",
      "4\n",
      "5\n",
      "6\n",
      "7\n",
      "8\n",
      "9\n"
     ]
    }
   ],
   "source": [
    "n = 0\n",
    "while n < 10:\n",
    "    print(n)\n",
    "    n += 1"
   ]
  },
  {
   "cell_type": "code",
   "execution_count": 31,
   "metadata": {},
   "outputs": [
    {
     "name": "stdout",
     "output_type": "stream",
     "text": [
      "0\n",
      "1\n",
      "2\n",
      "3\n",
      "4\n",
      "5\n",
      "6\n",
      "7\n",
      "8\n",
      "9\n"
     ]
    }
   ],
   "source": [
    "for n in range(10):\n",
    "    print(n)"
   ]
  },
  {
   "cell_type": "markdown",
   "metadata": {},
   "source": [
    "# Iterables\n",
    " - Listas\n",
    " - Tuplas\n",
    " - Sets\n",
    " - Diccionarios"
   ]
  },
  {
   "cell_type": "markdown",
   "metadata": {},
   "source": [
    "# Listas y Tuplas\n",
    " - Arreglos Dinámicos\n",
    " - No tienen que ser homogeneos\n",
    " - Listas son mutables\n",
    " - Tuplas son inmutables"
   ]
  },
  {
   "cell_type": "code",
   "execution_count": 3,
   "metadata": {},
   "outputs": [
    {
     "name": "stdout",
     "output_type": "stream",
     "text": [
      "Blank List: \n",
      "[]\n",
      "\n",
      "List of numbers: \n",
      "[10, 20, 14]\n",
      "\n",
      "List Items: \n",
      "Geeks\n",
      "Geeks\n",
      "\n",
      "Multi-Dimensional List: \n",
      "[['Geeks', 'For'], ['Geeks']]\n",
      "\n",
      "List with the use of Mixed Values: \n",
      "[1, 2, 'Geeks', 4, 'For', 6, 'Geeks']\n"
     ]
    }
   ],
   "source": [
    "# Creating a List\n",
    "List = []\n",
    "print(\"Blank List: \")\n",
    "print(List)\n",
    "  \n",
    "# Creating a List of numbers\n",
    "List = [10, 20, 14]\n",
    "print(\"\\nList of numbers: \")\n",
    "print(List)\n",
    "  \n",
    "# Creating a List of strings and accessing\n",
    "# using index\n",
    "List = [\"Geeks\", \"For\", \"Geeks\"]\n",
    "print(\"\\nList Items: \")\n",
    "print(List[0]) \n",
    "print(List[2])\n",
    "  \n",
    "# Creating a Multi-Dimensional List\n",
    "# (By Nesting a list inside a List)\n",
    "List = [['Geeks', 'For'] , ['Geeks']]\n",
    "print(\"\\nMulti-Dimensional List: \")\n",
    "print(List)\n",
    "\n",
    "# mixed type of values\n",
    "# (Having numbers and strings)\n",
    "List = [1, 2, 'Geeks', 4, 'For', 6, 'Geeks']\n",
    "print(\"\\nList with the use of Mixed Values: \")\n",
    "print(List)"
   ]
  },
  {
   "cell_type": "code",
   "execution_count": 4,
   "metadata": {},
   "outputs": [
    {
     "name": "stdout",
     "output_type": "stream",
     "text": [
      "80\n",
      "75\n",
      "91\n",
      "88\n",
      "90\n"
     ]
    }
   ],
   "source": [
    "mis_calif = [80, 75, 91, 88, 90]\n",
    "\n",
    "for calif in mis_calif:\n",
    "    print(calif)"
   ]
  },
  {
   "cell_type": "markdown",
   "metadata": {},
   "source": [
    "# Atributos y Métodos\n",
    "Todo en Python es un objeto, y como tal puede tener métodos y atributos.\n",
    "\n",
    "Se accede a estos métodos y atributos con un `.`\n",
    "\n",
    "## Ejemplo con Listas:"
   ]
  },
  {
   "cell_type": "code",
   "execution_count": 6,
   "metadata": {},
   "outputs": [
    {
     "name": "stdout",
     "output_type": "stream",
     "text": [
      "Initial blank List: \n",
      "[]\n",
      "\n",
      "List after Addition of Three elements: \n",
      "[1, 2, 4]\n",
      "\n",
      "List after Addition of elements from 1-3: \n",
      "[1, 2, 4, 1, 2, 3]\n",
      "\n",
      "List after Addition of a Tuple: \n",
      "[1, 2, 4, 1, 2, 3, (5, 6)]\n",
      "\n",
      "List after Addition of a List: \n",
      "[1, 2, 4, 1, 2, 3, (5, 6), ['For', 'Geeks']]\n"
     ]
    }
   ],
   "source": [
    "# Creating a List\n",
    "List = []\n",
    "print(\"Initial blank List: \")\n",
    "print(List)\n",
    "  \n",
    "# Addition of Elements \n",
    "# in the List\n",
    "List.append(1)\n",
    "List.append(2)\n",
    "List.append(4)\n",
    "print(\"\\nList after Addition of Three elements: \")\n",
    "print(List)\n",
    "  \n",
    "# Adding elements to the List\n",
    "# using Iterator\n",
    "for i in range(1, 4):\n",
    "    List.append(i)\n",
    "print(\"\\nList after Addition of elements from 1-3: \")\n",
    "print(List)\n",
    "  \n",
    "# Adding Tuples to the List\n",
    "List.append((5, 6))\n",
    "print(\"\\nList after Addition of a Tuple: \")\n",
    "print(List)\n",
    "  \n",
    "# Addition of List to a List\n",
    "List2 = ['For', 'Geeks']\n",
    "List.append(List2)\n",
    "print(\"\\nList after Addition of a List: \")\n",
    "print(List)"
   ]
  },
  {
   "cell_type": "code",
   "execution_count": 7,
   "metadata": {},
   "outputs": [
    {
     "name": "stdout",
     "output_type": "stream",
     "text": [
      "(12, 32, 43, 5463, 634)\n",
      "{12, 5, 23}\n"
     ]
    }
   ],
   "source": [
    "# Tuplas\n",
    "mi_tupla = (12, 32, 43, 5463, 634)\n",
    "print(mi_tupla)\n",
    "\n",
    "# Sets\n",
    "mi_set = {12, 23, 12, 5}\n",
    "print(mi_set)"
   ]
  }
 ],
 "metadata": {
  "kernelspec": {
   "display_name": "Python 3",
   "language": "python",
   "name": "python3"
  },
  "language_info": {
   "codemirror_mode": {
    "name": "ipython",
    "version": 3
   },
   "file_extension": ".py",
   "mimetype": "text/x-python",
   "name": "python",
   "nbconvert_exporter": "python",
   "pygments_lexer": "ipython3",
   "version": "3.8.8"
  }
 },
 "nbformat": 4,
 "nbformat_minor": 5
}

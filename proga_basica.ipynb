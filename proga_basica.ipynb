{
 "cells": [
  {
   "cell_type": "markdown",
   "id": "00c2257d",
   "metadata": {},
   "source": [
    "# Contenido \n",
    "## Día 1\n",
    " - Presentación Temario\n",
    " - Entorno de desarrollo\n",
    " - Python\n",
    " - Programación Básica\n",
    "\n",
    "## Día 2\n",
    " - Programación Básica\n",
    " - NumPy\n",
    " - Matplotlib\n",
    "\n",
    "## Día 3\n",
    " - Matplotlib\n",
    " - Sympy\n",
    " - Aplicaciones prácticas"
   ]
  },
  {
   "cell_type": "markdown",
   "id": "6ffe9884",
   "metadata": {},
   "source": [
    "# Intro a Jupyter Notebooks y Python"
   ]
  },
  {
   "cell_type": "code",
   "execution_count": 5,
   "id": "4b1fa18d",
   "metadata": {},
   "outputs": [
    {
     "name": "stdout",
     "output_type": "stream",
     "text": [
      "Hola Mundo\n"
     ]
    }
   ],
   "source": [
    "print(\"Hola Mundo\")"
   ]
  },
  {
   "cell_type": "markdown",
   "id": "39feb7f3",
   "metadata": {},
   "source": [
    "# Python\n",
    " - lenguaje de programación de propósito general\n",
    " - Interpretado\n",
    " - De alto nivel y multiparadigma\n",
    " - Multiplataforma\n",
    " - Tipado dinámico\n",
    " \n",
    " - Desarrollo Web\n",
    " - Cómputo científico [numpy](https://numpy.org/)\n",
    " "
   ]
  },
  {
   "cell_type": "markdown",
   "id": "9b8cd38e",
   "metadata": {},
   "source": [
    "# Variables y tipos de datos\n",
    " \n",
    "### Números\n",
    " - int\n",
    " - float\n",
    " - complex\n",
    " \n",
    "### Booleanos\n",
    " - bool\n",
    " \n",
    "### String\n",
    " - str\n",
    " \n",
    "### Estructuras\n",
    " - tuple\n",
    " - list\n",
    " - dict\n",
    " - set"
   ]
  },
  {
   "cell_type": "code",
   "execution_count": 10,
   "id": "80c9c938",
   "metadata": {},
   "outputs": [
    {
     "name": "stdout",
     "output_type": "stream",
     "text": [
      "<class 'int'> <class 'float'> <class 'complex'>\n"
     ]
    }
   ],
   "source": [
    "# Numeros\n",
    "mi_numero = 4\n",
    "flotante = 43.23\n",
    "complejo = 2.1 + 7.8j\n",
    "print(type(mi_numero), type(flotante), type(complejo))"
   ]
  },
  {
   "cell_type": "code",
   "execution_count": 12,
   "id": "2d52ea19",
   "metadata": {},
   "outputs": [],
   "source": [
    "# Booleanos\n",
    "mi_bool = True\n",
    "mi_otro_bool = False"
   ]
  },
  {
   "cell_type": "code",
   "execution_count": 15,
   "id": "eaec2bf4",
   "metadata": {},
   "outputs": [],
   "source": [
    "# Strings\n",
    "nombre = \"Santiago\"\n",
    "apellido = 'Chio'\n",
    "multiple = \"\"\"todo un parrafo\n",
    "con varias\n",
    "lineas\"\"\""
   ]
  },
  {
   "cell_type": "markdown",
   "id": "538d67a7",
   "metadata": {},
   "source": [
    "# Funciones built in\n",
    " [Documentación](https://docs.python.org/3/library/functions.html)"
   ]
  },
  {
   "cell_type": "code",
   "execution_count": 19,
   "id": "1b7df0cb",
   "metadata": {},
   "outputs": [
    {
     "name": "stdout",
     "output_type": "stream",
     "text": [
      "dame tu nombre:chio\n",
      "hola chio\n"
     ]
    }
   ],
   "source": [
    "mi_nombre = input('dame tu nombre:')\n",
    "print(\"hola\", mi_nombre)"
   ]
  },
  {
   "cell_type": "markdown",
   "id": "c321994c",
   "metadata": {},
   "source": [
    "# Operadores Aritméticos\n",
    "\\+\tSuma\t`x + y`\n",
    "\n",
    "\\-\tResta\t`x - y`\n",
    "\n",
    "\\*\tMultiplicación\t`x * y`\n",
    "\n",
    "/\tDivision (float)\t`x / y`\n",
    "\n",
    "//\tDivision (floor)\t`x // y`\n",
    "\n",
    "%\tMódulo\t`x % y`\n",
    "\n",
    "**\tPotencia\t`x ** y`"
   ]
  },
  {
   "cell_type": "code",
   "execution_count": 21,
   "id": "7428004b",
   "metadata": {},
   "outputs": [
    {
     "name": "stdout",
     "output_type": "stream",
     "text": [
      "13\n",
      "5\n",
      "36\n",
      "2.25\n",
      "2\n",
      "1\n",
      "6561\n"
     ]
    }
   ],
   "source": [
    "# Examples of Arithmetic Operator \n",
    "a = 9\n",
    "b = 4\n",
    "  \n",
    "# Addition of numbers \n",
    "add = a + b \n",
    "  \n",
    "# Subtraction of numbers \n",
    "sub = a - b \n",
    "  \n",
    "# Multiplication of number \n",
    "mul = a * b \n",
    "  \n",
    "# Division(float) of number \n",
    "div1 = a / b \n",
    "  \n",
    "# Division(floor) of number \n",
    "div2 = a // b \n",
    "  \n",
    "# Modulo of both number \n",
    "mod = a % b \n",
    "  \n",
    "# Power\n",
    "p = a ** b\n",
    "  \n",
    "# print results \n",
    "print(add) \n",
    "print(sub) \n",
    "print(mul) \n",
    "print(div1) \n",
    "print(div2) \n",
    "print(mod)\n",
    "print(p)"
   ]
  },
  {
   "cell_type": "markdown",
   "id": "e54cc73a",
   "metadata": {},
   "source": [
    "# Operadores Comparación\n",
    "\\>\tMayor que\t`x > y`\n",
    "\n",
    "<\tMenor que\t`x < y`\n",
    "\n",
    "==\tIgual a\t    `x == y`\n",
    "\n",
    "!=\tDiferente a `x != y`\n",
    "\n",
    "\\>=\tMayor que o igual\t`x >= y`\n",
    "\n",
    "<=\tMenor que o igual\t`x <= y`"
   ]
  },
  {
   "cell_type": "code",
   "execution_count": 22,
   "id": "f0c70f68",
   "metadata": {},
   "outputs": [
    {
     "name": "stdout",
     "output_type": "stream",
     "text": [
      "False\n",
      "True\n",
      "False\n",
      "True\n",
      "False\n",
      "True\n"
     ]
    }
   ],
   "source": [
    "# Examples of Relational Operators\n",
    "a = 13\n",
    "b = 33\n",
    "  \n",
    "# a > b is False\n",
    "print(a > b)\n",
    "  \n",
    "# a < b is True\n",
    "print(a < b)\n",
    "  \n",
    "# a == b is False\n",
    "print(a == b)\n",
    "  \n",
    "# a != b is True\n",
    "print(a != b)\n",
    "  \n",
    "# a >= b is False\n",
    "print(a >= b)\n",
    "  \n",
    "# a <= b is True\n",
    "print(a <= b)"
   ]
  },
  {
   "cell_type": "markdown",
   "id": "6a1b9b58",
   "metadata": {},
   "source": [
    "# Operadores Lógicos\n",
    "and\t`x and y`\n",
    "\n",
    "or\t`x or y`\n",
    "\n",
    "not\t`not x`"
   ]
  },
  {
   "cell_type": "code",
   "execution_count": 23,
   "id": "b55301a1",
   "metadata": {},
   "outputs": [
    {
     "name": "stdout",
     "output_type": "stream",
     "text": [
      "False\n",
      "True\n",
      "False\n"
     ]
    }
   ],
   "source": [
    "# Examples of Logical Operator\n",
    "a = True\n",
    "b = False\n",
    "  \n",
    "# Print a and b is False\n",
    "print(a and b)\n",
    "  \n",
    "# Print a or b is True\n",
    "print(a or b)\n",
    "  \n",
    "# Print not a is False\n",
    "print(not a)"
   ]
  },
  {
   "cell_type": "markdown",
   "id": "35d2bc93",
   "metadata": {},
   "source": [
    "## Otros operadores\n",
    " - Bitwise\n",
    " - Assignment\n",
    " - Identidad `is` `is not`\n",
    " - Pertenencia `in` `not in`"
   ]
  },
  {
   "cell_type": "markdown",
   "id": "9eeab07c",
   "metadata": {},
   "source": [
    "# Condicionales\n",
    "```python\n",
    "if True:\n",
    "    pass\n",
    "elif True:\n",
    "    pass\n",
    "else:\n",
    "    pass\n",
    "```"
   ]
  },
  {
   "cell_type": "code",
   "execution_count": 28,
   "id": "0477dc40",
   "metadata": {},
   "outputs": [
    {
     "name": "stdout",
     "output_type": "stream",
     "text": [
      "pon un múmero:121\n",
      "número entre 100 y 1000\n"
     ]
    }
   ],
   "source": [
    "numero = int(input(\"pon un múmero:\"))\n",
    "if numero < 100:\n",
    "    print(\"número pequeño\")\n",
    "elif numero < 1000:\n",
    "    print(\"número entre 100 y 1000\")\n",
    "else:\n",
    "    print(\"número mayor que 999\")\n"
   ]
  },
  {
   "cell_type": "markdown",
   "id": "9927f27a",
   "metadata": {},
   "source": [
    "# Ciclos\n",
    " - while\n",
    " - for\n",
    " \n",
    " sentencias:\n",
    " - break\n",
    " - continue"
   ]
  },
  {
   "cell_type": "code",
   "execution_count": 29,
   "id": "582be436",
   "metadata": {},
   "outputs": [
    {
     "name": "stdout",
     "output_type": "stream",
     "text": [
      "0\n",
      "1\n",
      "2\n",
      "3\n",
      "4\n",
      "5\n",
      "6\n",
      "7\n",
      "8\n",
      "9\n"
     ]
    }
   ],
   "source": [
    "n = 0\n",
    "while n < 10:\n",
    "    print(n)\n",
    "    n += 1"
   ]
  },
  {
   "cell_type": "code",
   "execution_count": 31,
   "id": "04560604",
   "metadata": {},
   "outputs": [
    {
     "name": "stdout",
     "output_type": "stream",
     "text": [
      "0\n",
      "1\n",
      "2\n",
      "3\n",
      "4\n",
      "5\n",
      "6\n",
      "7\n",
      "8\n",
      "9\n"
     ]
    }
   ],
   "source": [
    "for n in range(10):\n",
    "    print(n)"
   ]
  },
  {
   "cell_type": "markdown",
   "id": "7b768bd0",
   "metadata": {},
   "source": [
    "# Iterables\n",
    " - Listas\n",
    " - Tuplas\n",
    " - Sets\n",
    " - Diccionarios"
   ]
  },
  {
   "cell_type": "code",
   "execution_count": null,
   "id": "d8285a90",
   "metadata": {},
   "outputs": [],
   "source": []
  }
 ],
 "metadata": {
  "kernelspec": {
   "display_name": "Python 3",
   "language": "python",
   "name": "python3"
  },
  "language_info": {
   "codemirror_mode": {
    "name": "ipython",
    "version": 3
   },
   "file_extension": ".py",
   "mimetype": "text/x-python",
   "name": "python",
   "nbconvert_exporter": "python",
   "pygments_lexer": "ipython3",
   "version": "3.8.8"
  }
 },
 "nbformat": 4,
 "nbformat_minor": 5
}
